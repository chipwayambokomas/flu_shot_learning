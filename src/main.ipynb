{
 "cells": [
  {
   "cell_type": "markdown",
   "id": "7fd3f4a6",
   "metadata": {},
   "source": [
    "## Loading Data"
   ]
  },
  {
   "cell_type": "code",
   "execution_count": 63,
   "id": "f94ec014",
   "metadata": {},
   "outputs": [],
   "source": [
    "import pandas as pd\n",
    "import numpy as np"
   ]
  },
  {
   "cell_type": "code",
   "execution_count": 64,
   "id": "a8f0c0a9",
   "metadata": {},
   "outputs": [],
   "source": [
    "features_df = pd.read_csv(\"../data/training_set_features.csv\")\n",
    "labels_df = pd.read_csv(\"../data/training_set_labels.csv\")\n",
    "features_df.set_index(\"respondent_id\", inplace=True)\n",
    "labels_df.set_index(\"respondent_id\", inplace=True)"
   ]
  },
  {
   "cell_type": "code",
   "execution_count": 65,
   "id": "20b98438",
   "metadata": {},
   "outputs": [
    {
     "name": "stdout",
     "output_type": "stream",
     "text": [
      "features_df.shape (26707, 35)\n"
     ]
    },
    {
     "data": {
      "application/vnd.microsoft.datawrangler.viewer.v0+json": {
       "columns": [
        {
         "name": "respondent_id",
         "rawType": "int64",
         "type": "integer"
        },
        {
         "name": "h1n1_concern",
         "rawType": "float64",
         "type": "float"
        },
        {
         "name": "h1n1_knowledge",
         "rawType": "float64",
         "type": "float"
        },
        {
         "name": "behavioral_antiviral_meds",
         "rawType": "float64",
         "type": "float"
        },
        {
         "name": "behavioral_avoidance",
         "rawType": "float64",
         "type": "float"
        },
        {
         "name": "behavioral_face_mask",
         "rawType": "float64",
         "type": "float"
        },
        {
         "name": "behavioral_wash_hands",
         "rawType": "float64",
         "type": "float"
        },
        {
         "name": "behavioral_large_gatherings",
         "rawType": "float64",
         "type": "float"
        },
        {
         "name": "behavioral_outside_home",
         "rawType": "float64",
         "type": "float"
        },
        {
         "name": "behavioral_touch_face",
         "rawType": "float64",
         "type": "float"
        },
        {
         "name": "doctor_recc_h1n1",
         "rawType": "float64",
         "type": "float"
        },
        {
         "name": "doctor_recc_seasonal",
         "rawType": "float64",
         "type": "float"
        },
        {
         "name": "chronic_med_condition",
         "rawType": "float64",
         "type": "float"
        },
        {
         "name": "child_under_6_months",
         "rawType": "float64",
         "type": "float"
        },
        {
         "name": "health_worker",
         "rawType": "float64",
         "type": "float"
        },
        {
         "name": "health_insurance",
         "rawType": "float64",
         "type": "float"
        },
        {
         "name": "opinion_h1n1_vacc_effective",
         "rawType": "float64",
         "type": "float"
        },
        {
         "name": "opinion_h1n1_risk",
         "rawType": "float64",
         "type": "float"
        },
        {
         "name": "opinion_h1n1_sick_from_vacc",
         "rawType": "float64",
         "type": "float"
        },
        {
         "name": "opinion_seas_vacc_effective",
         "rawType": "float64",
         "type": "float"
        },
        {
         "name": "opinion_seas_risk",
         "rawType": "float64",
         "type": "float"
        },
        {
         "name": "opinion_seas_sick_from_vacc",
         "rawType": "float64",
         "type": "float"
        },
        {
         "name": "age_group",
         "rawType": "object",
         "type": "string"
        },
        {
         "name": "education",
         "rawType": "object",
         "type": "string"
        },
        {
         "name": "race",
         "rawType": "object",
         "type": "string"
        },
        {
         "name": "sex",
         "rawType": "object",
         "type": "string"
        },
        {
         "name": "income_poverty",
         "rawType": "object",
         "type": "string"
        },
        {
         "name": "marital_status",
         "rawType": "object",
         "type": "string"
        },
        {
         "name": "rent_or_own",
         "rawType": "object",
         "type": "string"
        },
        {
         "name": "employment_status",
         "rawType": "object",
         "type": "string"
        },
        {
         "name": "hhs_geo_region",
         "rawType": "object",
         "type": "string"
        },
        {
         "name": "census_msa",
         "rawType": "object",
         "type": "string"
        },
        {
         "name": "household_adults",
         "rawType": "float64",
         "type": "float"
        },
        {
         "name": "household_children",
         "rawType": "float64",
         "type": "float"
        },
        {
         "name": "employment_industry",
         "rawType": "object",
         "type": "unknown"
        },
        {
         "name": "employment_occupation",
         "rawType": "object",
         "type": "unknown"
        }
       ],
       "ref": "b3fdd28b-ae2a-4b40-8807-46938408522a",
       "rows": [
        [
         "0",
         "1.0",
         "0.0",
         "0.0",
         "0.0",
         "0.0",
         "0.0",
         "0.0",
         "1.0",
         "1.0",
         "0.0",
         "0.0",
         "0.0",
         "0.0",
         "0.0",
         "1.0",
         "3.0",
         "1.0",
         "2.0",
         "2.0",
         "1.0",
         "2.0",
         "55 - 64 Years",
         "< 12 Years",
         "White",
         "Female",
         "Below Poverty",
         "Not Married",
         "Own",
         "Not in Labor Force",
         "oxchjgsf",
         "Non-MSA",
         "0.0",
         "0.0",
         null,
         null
        ],
        [
         "1",
         "3.0",
         "2.0",
         "0.0",
         "1.0",
         "0.0",
         "1.0",
         "0.0",
         "1.0",
         "1.0",
         "0.0",
         "0.0",
         "0.0",
         "0.0",
         "0.0",
         "1.0",
         "5.0",
         "4.0",
         "4.0",
         "4.0",
         "2.0",
         "4.0",
         "35 - 44 Years",
         "12 Years",
         "White",
         "Male",
         "Below Poverty",
         "Not Married",
         "Rent",
         "Employed",
         "bhuqouqj",
         "MSA, Not Principle  City",
         "0.0",
         "0.0",
         "pxcmvdjn",
         "xgwztkwe"
        ],
        [
         "2",
         "1.0",
         "1.0",
         "0.0",
         "1.0",
         "0.0",
         "0.0",
         "0.0",
         "0.0",
         "0.0",
         null,
         null,
         "1.0",
         "0.0",
         "0.0",
         null,
         "3.0",
         "1.0",
         "1.0",
         "4.0",
         "1.0",
         "2.0",
         "18 - 34 Years",
         "College Graduate",
         "White",
         "Male",
         "<= $75,000, Above Poverty",
         "Not Married",
         "Own",
         "Employed",
         "qufhixun",
         "MSA, Not Principle  City",
         "2.0",
         "0.0",
         "rucpziij",
         "xtkaffoo"
        ],
        [
         "3",
         "1.0",
         "1.0",
         "0.0",
         "1.0",
         "0.0",
         "1.0",
         "1.0",
         "0.0",
         "0.0",
         "0.0",
         "1.0",
         "1.0",
         "0.0",
         "0.0",
         null,
         "3.0",
         "3.0",
         "5.0",
         "5.0",
         "4.0",
         "1.0",
         "65+ Years",
         "12 Years",
         "White",
         "Female",
         "Below Poverty",
         "Not Married",
         "Rent",
         "Not in Labor Force",
         "lrircsnp",
         "MSA, Principle City",
         "0.0",
         "0.0",
         null,
         null
        ],
        [
         "4",
         "2.0",
         "1.0",
         "0.0",
         "1.0",
         "0.0",
         "1.0",
         "1.0",
         "0.0",
         "1.0",
         "0.0",
         "0.0",
         "0.0",
         "0.0",
         "0.0",
         null,
         "3.0",
         "3.0",
         "2.0",
         "3.0",
         "1.0",
         "4.0",
         "45 - 54 Years",
         "Some College",
         "White",
         "Female",
         "<= $75,000, Above Poverty",
         "Married",
         "Own",
         "Employed",
         "qufhixun",
         "MSA, Not Principle  City",
         "1.0",
         "0.0",
         "wxleyezf",
         "emcorrxb"
        ]
       ],
       "shape": {
        "columns": 35,
        "rows": 5
       }
      },
      "text/html": [
       "<div>\n",
       "<style scoped>\n",
       "    .dataframe tbody tr th:only-of-type {\n",
       "        vertical-align: middle;\n",
       "    }\n",
       "\n",
       "    .dataframe tbody tr th {\n",
       "        vertical-align: top;\n",
       "    }\n",
       "\n",
       "    .dataframe thead th {\n",
       "        text-align: right;\n",
       "    }\n",
       "</style>\n",
       "<table border=\"1\" class=\"dataframe\">\n",
       "  <thead>\n",
       "    <tr style=\"text-align: right;\">\n",
       "      <th></th>\n",
       "      <th>h1n1_concern</th>\n",
       "      <th>h1n1_knowledge</th>\n",
       "      <th>behavioral_antiviral_meds</th>\n",
       "      <th>behavioral_avoidance</th>\n",
       "      <th>behavioral_face_mask</th>\n",
       "      <th>behavioral_wash_hands</th>\n",
       "      <th>behavioral_large_gatherings</th>\n",
       "      <th>behavioral_outside_home</th>\n",
       "      <th>behavioral_touch_face</th>\n",
       "      <th>doctor_recc_h1n1</th>\n",
       "      <th>...</th>\n",
       "      <th>income_poverty</th>\n",
       "      <th>marital_status</th>\n",
       "      <th>rent_or_own</th>\n",
       "      <th>employment_status</th>\n",
       "      <th>hhs_geo_region</th>\n",
       "      <th>census_msa</th>\n",
       "      <th>household_adults</th>\n",
       "      <th>household_children</th>\n",
       "      <th>employment_industry</th>\n",
       "      <th>employment_occupation</th>\n",
       "    </tr>\n",
       "    <tr>\n",
       "      <th>respondent_id</th>\n",
       "      <th></th>\n",
       "      <th></th>\n",
       "      <th></th>\n",
       "      <th></th>\n",
       "      <th></th>\n",
       "      <th></th>\n",
       "      <th></th>\n",
       "      <th></th>\n",
       "      <th></th>\n",
       "      <th></th>\n",
       "      <th></th>\n",
       "      <th></th>\n",
       "      <th></th>\n",
       "      <th></th>\n",
       "      <th></th>\n",
       "      <th></th>\n",
       "      <th></th>\n",
       "      <th></th>\n",
       "      <th></th>\n",
       "      <th></th>\n",
       "      <th></th>\n",
       "    </tr>\n",
       "  </thead>\n",
       "  <tbody>\n",
       "    <tr>\n",
       "      <th>0</th>\n",
       "      <td>1.0</td>\n",
       "      <td>0.0</td>\n",
       "      <td>0.0</td>\n",
       "      <td>0.0</td>\n",
       "      <td>0.0</td>\n",
       "      <td>0.0</td>\n",
       "      <td>0.0</td>\n",
       "      <td>1.0</td>\n",
       "      <td>1.0</td>\n",
       "      <td>0.0</td>\n",
       "      <td>...</td>\n",
       "      <td>Below Poverty</td>\n",
       "      <td>Not Married</td>\n",
       "      <td>Own</td>\n",
       "      <td>Not in Labor Force</td>\n",
       "      <td>oxchjgsf</td>\n",
       "      <td>Non-MSA</td>\n",
       "      <td>0.0</td>\n",
       "      <td>0.0</td>\n",
       "      <td>NaN</td>\n",
       "      <td>NaN</td>\n",
       "    </tr>\n",
       "    <tr>\n",
       "      <th>1</th>\n",
       "      <td>3.0</td>\n",
       "      <td>2.0</td>\n",
       "      <td>0.0</td>\n",
       "      <td>1.0</td>\n",
       "      <td>0.0</td>\n",
       "      <td>1.0</td>\n",
       "      <td>0.0</td>\n",
       "      <td>1.0</td>\n",
       "      <td>1.0</td>\n",
       "      <td>0.0</td>\n",
       "      <td>...</td>\n",
       "      <td>Below Poverty</td>\n",
       "      <td>Not Married</td>\n",
       "      <td>Rent</td>\n",
       "      <td>Employed</td>\n",
       "      <td>bhuqouqj</td>\n",
       "      <td>MSA, Not Principle  City</td>\n",
       "      <td>0.0</td>\n",
       "      <td>0.0</td>\n",
       "      <td>pxcmvdjn</td>\n",
       "      <td>xgwztkwe</td>\n",
       "    </tr>\n",
       "    <tr>\n",
       "      <th>2</th>\n",
       "      <td>1.0</td>\n",
       "      <td>1.0</td>\n",
       "      <td>0.0</td>\n",
       "      <td>1.0</td>\n",
       "      <td>0.0</td>\n",
       "      <td>0.0</td>\n",
       "      <td>0.0</td>\n",
       "      <td>0.0</td>\n",
       "      <td>0.0</td>\n",
       "      <td>NaN</td>\n",
       "      <td>...</td>\n",
       "      <td>&lt;= $75,000, Above Poverty</td>\n",
       "      <td>Not Married</td>\n",
       "      <td>Own</td>\n",
       "      <td>Employed</td>\n",
       "      <td>qufhixun</td>\n",
       "      <td>MSA, Not Principle  City</td>\n",
       "      <td>2.0</td>\n",
       "      <td>0.0</td>\n",
       "      <td>rucpziij</td>\n",
       "      <td>xtkaffoo</td>\n",
       "    </tr>\n",
       "    <tr>\n",
       "      <th>3</th>\n",
       "      <td>1.0</td>\n",
       "      <td>1.0</td>\n",
       "      <td>0.0</td>\n",
       "      <td>1.0</td>\n",
       "      <td>0.0</td>\n",
       "      <td>1.0</td>\n",
       "      <td>1.0</td>\n",
       "      <td>0.0</td>\n",
       "      <td>0.0</td>\n",
       "      <td>0.0</td>\n",
       "      <td>...</td>\n",
       "      <td>Below Poverty</td>\n",
       "      <td>Not Married</td>\n",
       "      <td>Rent</td>\n",
       "      <td>Not in Labor Force</td>\n",
       "      <td>lrircsnp</td>\n",
       "      <td>MSA, Principle City</td>\n",
       "      <td>0.0</td>\n",
       "      <td>0.0</td>\n",
       "      <td>NaN</td>\n",
       "      <td>NaN</td>\n",
       "    </tr>\n",
       "    <tr>\n",
       "      <th>4</th>\n",
       "      <td>2.0</td>\n",
       "      <td>1.0</td>\n",
       "      <td>0.0</td>\n",
       "      <td>1.0</td>\n",
       "      <td>0.0</td>\n",
       "      <td>1.0</td>\n",
       "      <td>1.0</td>\n",
       "      <td>0.0</td>\n",
       "      <td>1.0</td>\n",
       "      <td>0.0</td>\n",
       "      <td>...</td>\n",
       "      <td>&lt;= $75,000, Above Poverty</td>\n",
       "      <td>Married</td>\n",
       "      <td>Own</td>\n",
       "      <td>Employed</td>\n",
       "      <td>qufhixun</td>\n",
       "      <td>MSA, Not Principle  City</td>\n",
       "      <td>1.0</td>\n",
       "      <td>0.0</td>\n",
       "      <td>wxleyezf</td>\n",
       "      <td>emcorrxb</td>\n",
       "    </tr>\n",
       "  </tbody>\n",
       "</table>\n",
       "<p>5 rows × 35 columns</p>\n",
       "</div>"
      ],
      "text/plain": [
       "               h1n1_concern  h1n1_knowledge  behavioral_antiviral_meds  \\\n",
       "respondent_id                                                            \n",
       "0                       1.0             0.0                        0.0   \n",
       "1                       3.0             2.0                        0.0   \n",
       "2                       1.0             1.0                        0.0   \n",
       "3                       1.0             1.0                        0.0   \n",
       "4                       2.0             1.0                        0.0   \n",
       "\n",
       "               behavioral_avoidance  behavioral_face_mask  \\\n",
       "respondent_id                                               \n",
       "0                               0.0                   0.0   \n",
       "1                               1.0                   0.0   \n",
       "2                               1.0                   0.0   \n",
       "3                               1.0                   0.0   \n",
       "4                               1.0                   0.0   \n",
       "\n",
       "               behavioral_wash_hands  behavioral_large_gatherings  \\\n",
       "respondent_id                                                       \n",
       "0                                0.0                          0.0   \n",
       "1                                1.0                          0.0   \n",
       "2                                0.0                          0.0   \n",
       "3                                1.0                          1.0   \n",
       "4                                1.0                          1.0   \n",
       "\n",
       "               behavioral_outside_home  behavioral_touch_face  \\\n",
       "respondent_id                                                   \n",
       "0                                  1.0                    1.0   \n",
       "1                                  1.0                    1.0   \n",
       "2                                  0.0                    0.0   \n",
       "3                                  0.0                    0.0   \n",
       "4                                  0.0                    1.0   \n",
       "\n",
       "               doctor_recc_h1n1  ...             income_poverty  \\\n",
       "respondent_id                    ...                              \n",
       "0                           0.0  ...              Below Poverty   \n",
       "1                           0.0  ...              Below Poverty   \n",
       "2                           NaN  ...  <= $75,000, Above Poverty   \n",
       "3                           0.0  ...              Below Poverty   \n",
       "4                           0.0  ...  <= $75,000, Above Poverty   \n",
       "\n",
       "               marital_status  rent_or_own   employment_status  \\\n",
       "respondent_id                                                    \n",
       "0                 Not Married          Own  Not in Labor Force   \n",
       "1                 Not Married         Rent            Employed   \n",
       "2                 Not Married          Own            Employed   \n",
       "3                 Not Married         Rent  Not in Labor Force   \n",
       "4                     Married          Own            Employed   \n",
       "\n",
       "               hhs_geo_region                census_msa  household_adults  \\\n",
       "respondent_id                                                               \n",
       "0                    oxchjgsf                   Non-MSA               0.0   \n",
       "1                    bhuqouqj  MSA, Not Principle  City               0.0   \n",
       "2                    qufhixun  MSA, Not Principle  City               2.0   \n",
       "3                    lrircsnp       MSA, Principle City               0.0   \n",
       "4                    qufhixun  MSA, Not Principle  City               1.0   \n",
       "\n",
       "               household_children  employment_industry  employment_occupation  \n",
       "respondent_id                                                                  \n",
       "0                             0.0                  NaN                    NaN  \n",
       "1                             0.0             pxcmvdjn               xgwztkwe  \n",
       "2                             0.0             rucpziij               xtkaffoo  \n",
       "3                             0.0                  NaN                    NaN  \n",
       "4                             0.0             wxleyezf               emcorrxb  \n",
       "\n",
       "[5 rows x 35 columns]"
      ]
     },
     "execution_count": 65,
     "metadata": {},
     "output_type": "execute_result"
    }
   ],
   "source": [
    "print(\"features_df.shape\", features_df.shape)\n",
    "features_df.head()"
   ]
  },
  {
   "cell_type": "code",
   "execution_count": 66,
   "id": "d4edc076",
   "metadata": {},
   "outputs": [
    {
     "data": {
      "application/vnd.microsoft.datawrangler.viewer.v0+json": {
       "columns": [
        {
         "name": "index",
         "rawType": "object",
         "type": "string"
        },
        {
         "name": "0",
         "rawType": "object",
         "type": "unknown"
        }
       ],
       "ref": "13fe9ecc-1a96-48b9-b0a6-525708a098dd",
       "rows": [
        [
         "h1n1_concern",
         "float64"
        ],
        [
         "h1n1_knowledge",
         "float64"
        ],
        [
         "behavioral_antiviral_meds",
         "float64"
        ],
        [
         "behavioral_avoidance",
         "float64"
        ],
        [
         "behavioral_face_mask",
         "float64"
        ],
        [
         "behavioral_wash_hands",
         "float64"
        ],
        [
         "behavioral_large_gatherings",
         "float64"
        ],
        [
         "behavioral_outside_home",
         "float64"
        ],
        [
         "behavioral_touch_face",
         "float64"
        ],
        [
         "doctor_recc_h1n1",
         "float64"
        ],
        [
         "doctor_recc_seasonal",
         "float64"
        ],
        [
         "chronic_med_condition",
         "float64"
        ],
        [
         "child_under_6_months",
         "float64"
        ],
        [
         "health_worker",
         "float64"
        ],
        [
         "health_insurance",
         "float64"
        ],
        [
         "opinion_h1n1_vacc_effective",
         "float64"
        ],
        [
         "opinion_h1n1_risk",
         "float64"
        ],
        [
         "opinion_h1n1_sick_from_vacc",
         "float64"
        ],
        [
         "opinion_seas_vacc_effective",
         "float64"
        ],
        [
         "opinion_seas_risk",
         "float64"
        ],
        [
         "opinion_seas_sick_from_vacc",
         "float64"
        ],
        [
         "age_group",
         "object"
        ],
        [
         "education",
         "object"
        ],
        [
         "race",
         "object"
        ],
        [
         "sex",
         "object"
        ],
        [
         "income_poverty",
         "object"
        ],
        [
         "marital_status",
         "object"
        ],
        [
         "rent_or_own",
         "object"
        ],
        [
         "employment_status",
         "object"
        ],
        [
         "hhs_geo_region",
         "object"
        ],
        [
         "census_msa",
         "object"
        ],
        [
         "household_adults",
         "float64"
        ],
        [
         "household_children",
         "float64"
        ],
        [
         "employment_industry",
         "object"
        ],
        [
         "employment_occupation",
         "object"
        ]
       ],
       "shape": {
        "columns": 1,
        "rows": 35
       }
      },
      "text/plain": [
       "h1n1_concern                   float64\n",
       "h1n1_knowledge                 float64\n",
       "behavioral_antiviral_meds      float64\n",
       "behavioral_avoidance           float64\n",
       "behavioral_face_mask           float64\n",
       "behavioral_wash_hands          float64\n",
       "behavioral_large_gatherings    float64\n",
       "behavioral_outside_home        float64\n",
       "behavioral_touch_face          float64\n",
       "doctor_recc_h1n1               float64\n",
       "doctor_recc_seasonal           float64\n",
       "chronic_med_condition          float64\n",
       "child_under_6_months           float64\n",
       "health_worker                  float64\n",
       "health_insurance               float64\n",
       "opinion_h1n1_vacc_effective    float64\n",
       "opinion_h1n1_risk              float64\n",
       "opinion_h1n1_sick_from_vacc    float64\n",
       "opinion_seas_vacc_effective    float64\n",
       "opinion_seas_risk              float64\n",
       "opinion_seas_sick_from_vacc    float64\n",
       "age_group                       object\n",
       "education                       object\n",
       "race                            object\n",
       "sex                             object\n",
       "income_poverty                  object\n",
       "marital_status                  object\n",
       "rent_or_own                     object\n",
       "employment_status               object\n",
       "hhs_geo_region                  object\n",
       "census_msa                      object\n",
       "household_adults               float64\n",
       "household_children             float64\n",
       "employment_industry             object\n",
       "employment_occupation           object\n",
       "dtype: object"
      ]
     },
     "execution_count": 66,
     "metadata": {},
     "output_type": "execute_result"
    }
   ],
   "source": [
    "features_df.dtypes"
   ]
  },
  {
   "cell_type": "code",
   "execution_count": 67,
   "id": "9e5dbd8c",
   "metadata": {},
   "outputs": [
    {
     "name": "stdout",
     "output_type": "stream",
     "text": [
      "labels_df.shape (26707, 2)\n"
     ]
    },
    {
     "data": {
      "application/vnd.microsoft.datawrangler.viewer.v0+json": {
       "columns": [
        {
         "name": "respondent_id",
         "rawType": "int64",
         "type": "integer"
        },
        {
         "name": "h1n1_vaccine",
         "rawType": "int64",
         "type": "integer"
        },
        {
         "name": "seasonal_vaccine",
         "rawType": "int64",
         "type": "integer"
        }
       ],
       "ref": "69cdbe56-b071-4892-810a-e71a83958972",
       "rows": [
        [
         "0",
         "0",
         "0"
        ],
        [
         "1",
         "0",
         "1"
        ],
        [
         "2",
         "0",
         "0"
        ],
        [
         "3",
         "0",
         "1"
        ],
        [
         "4",
         "0",
         "0"
        ]
       ],
       "shape": {
        "columns": 2,
        "rows": 5
       }
      },
      "text/html": [
       "<div>\n",
       "<style scoped>\n",
       "    .dataframe tbody tr th:only-of-type {\n",
       "        vertical-align: middle;\n",
       "    }\n",
       "\n",
       "    .dataframe tbody tr th {\n",
       "        vertical-align: top;\n",
       "    }\n",
       "\n",
       "    .dataframe thead th {\n",
       "        text-align: right;\n",
       "    }\n",
       "</style>\n",
       "<table border=\"1\" class=\"dataframe\">\n",
       "  <thead>\n",
       "    <tr style=\"text-align: right;\">\n",
       "      <th></th>\n",
       "      <th>h1n1_vaccine</th>\n",
       "      <th>seasonal_vaccine</th>\n",
       "    </tr>\n",
       "    <tr>\n",
       "      <th>respondent_id</th>\n",
       "      <th></th>\n",
       "      <th></th>\n",
       "    </tr>\n",
       "  </thead>\n",
       "  <tbody>\n",
       "    <tr>\n",
       "      <th>0</th>\n",
       "      <td>0</td>\n",
       "      <td>0</td>\n",
       "    </tr>\n",
       "    <tr>\n",
       "      <th>1</th>\n",
       "      <td>0</td>\n",
       "      <td>1</td>\n",
       "    </tr>\n",
       "    <tr>\n",
       "      <th>2</th>\n",
       "      <td>0</td>\n",
       "      <td>0</td>\n",
       "    </tr>\n",
       "    <tr>\n",
       "      <th>3</th>\n",
       "      <td>0</td>\n",
       "      <td>1</td>\n",
       "    </tr>\n",
       "    <tr>\n",
       "      <th>4</th>\n",
       "      <td>0</td>\n",
       "      <td>0</td>\n",
       "    </tr>\n",
       "  </tbody>\n",
       "</table>\n",
       "</div>"
      ],
      "text/plain": [
       "               h1n1_vaccine  seasonal_vaccine\n",
       "respondent_id                                \n",
       "0                         0                 0\n",
       "1                         0                 1\n",
       "2                         0                 0\n",
       "3                         0                 1\n",
       "4                         0                 0"
      ]
     },
     "execution_count": 67,
     "metadata": {},
     "output_type": "execute_result"
    }
   ],
   "source": [
    "print(\"labels_df.shape\", labels_df.shape)\n",
    "labels_df.head()"
   ]
  },
  {
   "cell_type": "code",
   "execution_count": 68,
   "id": "1a2f1958",
   "metadata": {},
   "outputs": [],
   "source": [
    "#to double-check that the rows between the features and the labels match up, will error if the row indices of the two data frames don't match up\n",
    "np.testing.assert_array_equal(features_df.index.values, labels_df.index.values)"
   ]
  },
  {
   "cell_type": "markdown",
   "id": "6d38186a",
   "metadata": {},
   "source": [
    "## Exploratory Data Analysis (EDA)"
   ]
  },
  {
   "cell_type": "code",
   "execution_count": 69,
   "id": "9a422c2e",
   "metadata": {},
   "outputs": [],
   "source": [
    "%matplotlib inline\n",
    "import matplotlib.pyplot as plt"
   ]
  },
  {
   "cell_type": "code",
   "execution_count": 70,
   "id": "5283f926",
   "metadata": {},
   "outputs": [
    {
     "data": {
      "image/png": "[encoded data removed]",
      "text/plain": [
       "<Figure size 640x480 with 2 Axes>"
      ]
     },
     "metadata": {},
     "output_type": "display_data"
    }
   ],
   "source": [
    "fig, ax = plt.subplots(2, 1, sharex=True)\n",
    "\n",
    "n_obs = labels_df.shape[0]\n",
    "\n",
    "(labels_df['h1n1_vaccine']\n",
    "    .value_counts()\n",
    "    .div(n_obs)\n",
    "    .plot.barh(title=\"Proportion of H1N1 Vaccine\", ax=ax[0])\n",
    ")\n",
    "ax[0].set_ylabel(\"h1n1_vaccine\")\n",
    "\n",
    "(labels_df['seasonal_vaccine']\n",
    "    .value_counts()\n",
    "    .div(n_obs)\n",
    "    .plot.barh(title=\"Proportion of Seasonal Vaccine\", ax=ax[1])\n",
    ")\n",
    "ax[1].set_ylabel(\"seasonal_vaccine\")\n",
    "\n",
    "fig.tight_layout()"
   ]
  },
  {
   "cell_type": "markdown",
   "id": "cf251de1",
   "metadata": {},
   "source": [
    "Note: H1N1 target has moderately imbalanced classes whilst Seasonal target has balanced classes"
   ]
  },
  {
   "cell_type": "code",
   "execution_count": 71,
   "id": "bf713fb3",
   "metadata": {},
   "outputs": [
    {
     "data": {
      "application/vnd.microsoft.datawrangler.viewer.v0+json": {
       "columns": [
        {
         "name": "h1n1_vaccine",
         "rawType": "object",
         "type": "unknown"
        },
        {
         "name": "0",
         "rawType": "float64",
         "type": "float"
        },
        {
         "name": "1",
         "rawType": "float64",
         "type": "float"
        },
        {
         "name": "All",
         "rawType": "float64",
         "type": "float"
        }
       ],
       "ref": "4aed09a3-b1ee-48f7-b8b9-0a974ad510bb",
       "rows": [
        [
         "0",
         "0.4978095630359082",
         "0.2897367731306399",
         "0.7875463361665481"
        ],
        [
         "1",
         "0.03658216946867862",
         "0.17587149436477328",
         "0.2124536638334519"
        ],
        [
         "All",
         "0.5343917325045868",
         "0.4656082674954132",
         "1.0"
        ]
       ],
       "shape": {
        "columns": 3,
        "rows": 3
       }
      },
      "text/html": [
       "<div>\n",
       "<style scoped>\n",
       "    .dataframe tbody tr th:only-of-type {\n",
       "        vertical-align: middle;\n",
       "    }\n",
       "\n",
       "    .dataframe tbody tr th {\n",
       "        vertical-align: top;\n",
       "    }\n",
       "\n",
       "    .dataframe thead th {\n",
       "        text-align: right;\n",
       "    }\n",
       "</style>\n",
       "<table border=\"1\" class=\"dataframe\">\n",
       "  <thead>\n",
       "    <tr style=\"text-align: right;\">\n",
       "      <th>seasonal_vaccine</th>\n",
       "      <th>0</th>\n",
       "      <th>1</th>\n",
       "      <th>All</th>\n",
       "    </tr>\n",
       "    <tr>\n",
       "      <th>h1n1_vaccine</th>\n",
       "      <th></th>\n",
       "      <th></th>\n",
       "      <th></th>\n",
       "    </tr>\n",
       "  </thead>\n",
       "  <tbody>\n",
       "    <tr>\n",
       "      <th>0</th>\n",
       "      <td>0.497810</td>\n",
       "      <td>0.289737</td>\n",
       "      <td>0.787546</td>\n",
       "    </tr>\n",
       "    <tr>\n",
       "      <th>1</th>\n",
       "      <td>0.036582</td>\n",
       "      <td>0.175871</td>\n",
       "      <td>0.212454</td>\n",
       "    </tr>\n",
       "    <tr>\n",
       "      <th>All</th>\n",
       "      <td>0.534392</td>\n",
       "      <td>0.465608</td>\n",
       "      <td>1.000000</td>\n",
       "    </tr>\n",
       "  </tbody>\n",
       "</table>\n",
       "</div>"
      ],
      "text/plain": [
       "seasonal_vaccine         0         1       All\n",
       "h1n1_vaccine                                  \n",
       "0                 0.497810  0.289737  0.787546\n",
       "1                 0.036582  0.175871  0.212454\n",
       "All               0.534392  0.465608  1.000000"
      ]
     },
     "execution_count": 71,
     "metadata": {},
     "output_type": "execute_result"
    }
   ],
   "source": [
    "pd.crosstab(\n",
    "    labels_df[\"h1n1_vaccine\"], \n",
    "    labels_df[\"seasonal_vaccine\"], \n",
    "    margins=True,\n",
    "    normalize=True\n",
    ")"
   ]
  },
  {
   "cell_type": "code",
   "execution_count": 72,
   "id": "39248648",
   "metadata": {},
   "outputs": [
    {
     "data": {
      "text/plain": [
       "0.37714265306144507"
      ]
     },
     "execution_count": 72,
     "metadata": {},
     "output_type": "execute_result"
    }
   ],
   "source": [
    "# Phi Coefficient is the same as Pearson for two binary variables\n",
    "(labels_df[\"h1n1_vaccine\"]\n",
    "     .corr(labels_df[\"seasonal_vaccine\"], method=\"pearson\")\n",
    ")"
   ]
  },
  {
   "cell_type": "markdown",
   "id": "5b7a0eaa",
   "metadata": {},
   "source": [
    "Note: Phi coefficient of 0.37 indicates a moderate positive correlation. Most people who got an H1N1 flu vaccine also got the seasonal flu vaccine. While a minority of people who got the seasonal vaccine got the H1N1 vaccine, but they got the H1N1 vaccine at a higher rate than those who did not get the seasonal vaccine at all."
   ]
  },
  {
   "cell_type": "code",
   "execution_count": 73,
   "id": "970cd147",
   "metadata": {},
   "outputs": [
    {
     "name": "stdout",
     "output_type": "stream",
     "text": [
      "merged_df.shape (26707, 37)\n"
     ]
    },
    {
     "data": {
      "application/vnd.microsoft.datawrangler.viewer.v0+json": {
       "columns": [
        {
         "name": "respondent_id",
         "rawType": "int64",
         "type": "integer"
        },
        {
         "name": "h1n1_concern",
         "rawType": "float64",
         "type": "float"
        },
        {
         "name": "h1n1_knowledge",
         "rawType": "float64",
         "type": "float"
        },
        {
         "name": "behavioral_antiviral_meds",
         "rawType": "float64",
         "type": "float"
        },
        {
         "name": "behavioral_avoidance",
         "rawType": "float64",
         "type": "float"
        },
        {
         "name": "behavioral_face_mask",
         "rawType": "float64",
         "type": "float"
        },
        {
         "name": "behavioral_wash_hands",
         "rawType": "float64",
         "type": "float"
        },
        {
         "name": "behavioral_large_gatherings",
         "rawType": "float64",
         "type": "float"
        },
        {
         "name": "behavioral_outside_home",
         "rawType": "float64",
         "type": "float"
        },
        {
         "name": "behavioral_touch_face",
         "rawType": "float64",
         "type": "float"
        },
        {
         "name": "doctor_recc_h1n1",
         "rawType": "float64",
         "type": "float"
        },
        {
         "name": "doctor_recc_seasonal",
         "rawType": "float64",
         "type": "float"
        },
        {
         "name": "chronic_med_condition",
         "rawType": "float64",
         "type": "float"
        },
        {
         "name": "child_under_6_months",
         "rawType": "float64",
         "type": "float"
        },
        {
         "name": "health_worker",
         "rawType": "float64",
         "type": "float"
        },
        {
         "name": "health_insurance",
         "rawType": "float64",
         "type": "float"
        },
        {
         "name": "opinion_h1n1_vacc_effective",
         "rawType": "float64",
         "type": "float"
        },
        {
         "name": "opinion_h1n1_risk",
         "rawType": "float64",
         "type": "float"
        },
        {
         "name": "opinion_h1n1_sick_from_vacc",
         "rawType": "float64",
         "type": "float"
        },
        {
         "name": "opinion_seas_vacc_effective",
         "rawType": "float64",
         "type": "float"
        },
        {
         "name": "opinion_seas_risk",
         "rawType": "float64",
         "type": "float"
        },
        {
         "name": "opinion_seas_sick_from_vacc",
         "rawType": "float64",
         "type": "float"
        },
        {
         "name": "age_group",
         "rawType": "object",
         "type": "string"
        },
        {
         "name": "education",
         "rawType": "object",
         "type": "string"
        },
        {
         "name": "race",
         "rawType": "object",
         "type": "string"
        },
        {
         "name": "sex",
         "rawType": "object",
         "type": "string"
        },
        {
         "name": "income_poverty",
         "rawType": "object",
         "type": "string"
        },
        {
         "name": "marital_status",
         "rawType": "object",
         "type": "string"
        },
        {
         "name": "rent_or_own",
         "rawType": "object",
         "type": "string"
        },
        {
         "name": "employment_status",
         "rawType": "object",
         "type": "string"
        },
        {
         "name": "hhs_geo_region",
         "rawType": "object",
         "type": "string"
        },
        {
         "name": "census_msa",
         "rawType": "object",
         "type": "string"
        },
        {
         "name": "household_adults",
         "rawType": "float64",
         "type": "float"
        },
        {
         "name": "household_children",
         "rawType": "float64",
         "type": "float"
        },
        {
         "name": "employment_industry",
         "rawType": "object",
         "type": "unknown"
        },
        {
         "name": "employment_occupation",
         "rawType": "object",
         "type": "unknown"
        },
        {
         "name": "h1n1_vaccine",
         "rawType": "int64",
         "type": "integer"
        },
        {
         "name": "seasonal_vaccine",
         "rawType": "int64",
         "type": "integer"
        }
       ],
       "ref": "5e6adecb-1483-4a56-93cf-868a7515eca8",
       "rows": [
        [
         "0",
         "1.0",
         "0.0",
         "0.0",
         "0.0",
         "0.0",
         "0.0",
         "0.0",
         "1.0",
         "1.0",
         "0.0",
         "0.0",
         "0.0",
         "0.0",
         "0.0",
         "1.0",
         "3.0",
         "1.0",
         "2.0",
         "2.0",
         "1.0",
         "2.0",
         "55 - 64 Years",
         "< 12 Years",
         "White",
         "Female",
         "Below Poverty",
         "Not Married",
         "Own",
         "Not in Labor Force",
         "oxchjgsf",
         "Non-MSA",
         "0.0",
         "0.0",
         null,
         null,
         "0",
         "0"
        ],
        [
         "1",
         "3.0",
         "2.0",
         "0.0",
         "1.0",
         "0.0",
         "1.0",
         "0.0",
         "1.0",
         "1.0",
         "0.0",
         "0.0",
         "0.0",
         "0.0",
         "0.0",
         "1.0",
         "5.0",
         "4.0",
         "4.0",
         "4.0",
         "2.0",
         "4.0",
         "35 - 44 Years",
         "12 Years",
         "White",
         "Male",
         "Below Poverty",
         "Not Married",
         "Rent",
         "Employed",
         "bhuqouqj",
         "MSA, Not Principle  City",
         "0.0",
         "0.0",
         "pxcmvdjn",
         "xgwztkwe",
         "0",
         "1"
        ],
        [
         "2",
         "1.0",
         "1.0",
         "0.0",
         "1.0",
         "0.0",
         "0.0",
         "0.0",
         "0.0",
         "0.0",
         null,
         null,
         "1.0",
         "0.0",
         "0.0",
         null,
         "3.0",
         "1.0",
         "1.0",
         "4.0",
         "1.0",
         "2.0",
         "18 - 34 Years",
         "College Graduate",
         "White",
         "Male",
         "<= $75,000, Above Poverty",
         "Not Married",
         "Own",
         "Employed",
         "qufhixun",
         "MSA, Not Principle  City",
         "2.0",
         "0.0",
         "rucpziij",
         "xtkaffoo",
         "0",
         "0"
        ],
        [
         "3",
         "1.0",
         "1.0",
         "0.0",
         "1.0",
         "0.0",
         "1.0",
         "1.0",
         "0.0",
         "0.0",
         "0.0",
         "1.0",
         "1.0",
         "0.0",
         "0.0",
         null,
         "3.0",
         "3.0",
         "5.0",
         "5.0",
         "4.0",
         "1.0",
         "65+ Years",
         "12 Years",
         "White",
         "Female",
         "Below Poverty",
         "Not Married",
         "Rent",
         "Not in Labor Force",
         "lrircsnp",
         "MSA, Principle City",
         "0.0",
         "0.0",
         null,
         null,
         "0",
         "1"
        ],
        [
         "4",
         "2.0",
         "1.0",
         "0.0",
         "1.0",
         "0.0",
         "1.0",
         "1.0",
         "0.0",
         "1.0",
         "0.0",
         "0.0",
         "0.0",
         "0.0",
         "0.0",
         null,
         "3.0",
         "3.0",
         "2.0",
         "3.0",
         "1.0",
         "4.0",
         "45 - 54 Years",
         "Some College",
         "White",
         "Female",
         "<= $75,000, Above Poverty",
         "Married",
         "Own",
         "Employed",
         "qufhixun",
         "MSA, Not Principle  City",
         "1.0",
         "0.0",
         "wxleyezf",
         "emcorrxb",
         "0",
         "0"
        ]
       ],
       "shape": {
        "columns": 37,
        "rows": 5
       }
      },
      "text/html": [
       "<div>\n",
       "<style scoped>\n",
       "    .dataframe tbody tr th:only-of-type {\n",
       "        vertical-align: middle;\n",
       "    }\n",
       "\n",
       "    .dataframe tbody tr th {\n",
       "        vertical-align: top;\n",
       "    }\n",
       "\n",
       "    .dataframe thead th {\n",
       "        text-align: right;\n",
       "    }\n",
       "</style>\n",
       "<table border=\"1\" class=\"dataframe\">\n",
       "  <thead>\n",
       "    <tr style=\"text-align: right;\">\n",
       "      <th></th>\n",
       "      <th>h1n1_concern</th>\n",
       "      <th>h1n1_knowledge</th>\n",
       "      <th>behavioral_antiviral_meds</th>\n",
       "      <th>behavioral_avoidance</th>\n",
       "      <th>behavioral_face_mask</th>\n",
       "      <th>behavioral_wash_hands</th>\n",
       "      <th>behavioral_large_gatherings</th>\n",
       "      <th>behavioral_outside_home</th>\n",
       "      <th>behavioral_touch_face</th>\n",
       "      <th>doctor_recc_h1n1</th>\n",
       "      <th>...</th>\n",
       "      <th>rent_or_own</th>\n",
       "      <th>employment_status</th>\n",
       "      <th>hhs_geo_region</th>\n",
       "      <th>census_msa</th>\n",
       "      <th>household_adults</th>\n",
       "      <th>household_children</th>\n",
       "      <th>employment_industry</th>\n",
       "      <th>employment_occupation</th>\n",
       "      <th>h1n1_vaccine</th>\n",
       "      <th>seasonal_vaccine</th>\n",
       "    </tr>\n",
       "    <tr>\n",
       "      <th>respondent_id</th>\n",
       "      <th></th>\n",
       "      <th></th>\n",
       "      <th></th>\n",
       "      <th></th>\n",
       "      <th></th>\n",
       "      <th></th>\n",
       "      <th></th>\n",
       "      <th></th>\n",
       "      <th></th>\n",
       "      <th></th>\n",
       "      <th></th>\n",
       "      <th></th>\n",
       "      <th></th>\n",
       "      <th></th>\n",
       "      <th></th>\n",
       "      <th></th>\n",
       "      <th></th>\n",
       "      <th></th>\n",
       "      <th></th>\n",
       "      <th></th>\n",
       "      <th></th>\n",
       "    </tr>\n",
       "  </thead>\n",
       "  <tbody>\n",
       "    <tr>\n",
       "      <th>0</th>\n",
       "      <td>1.0</td>\n",
       "      <td>0.0</td>\n",
       "      <td>0.0</td>\n",
       "      <td>0.0</td>\n",
       "      <td>0.0</td>\n",
       "      <td>0.0</td>\n",
       "      <td>0.0</td>\n",
       "      <td>1.0</td>\n",
       "      <td>1.0</td>\n",
       "      <td>0.0</td>\n",
       "      <td>...</td>\n",
       "      <td>Own</td>\n",
       "      <td>Not in Labor Force</td>\n",
       "      <td>oxchjgsf</td>\n",
       "      <td>Non-MSA</td>\n",
       "      <td>0.0</td>\n",
       "      <td>0.0</td>\n",
       "      <td>NaN</td>\n",
       "      <td>NaN</td>\n",
       "      <td>0</td>\n",
       "      <td>0</td>\n",
       "    </tr>\n",
       "    <tr>\n",
       "      <th>1</th>\n",
       "      <td>3.0</td>\n",
       "      <td>2.0</td>\n",
       "      <td>0.0</td>\n",
       "      <td>1.0</td>\n",
       "      <td>0.0</td>\n",
       "      <td>1.0</td>\n",
       "      <td>0.0</td>\n",
       "      <td>1.0</td>\n",
       "      <td>1.0</td>\n",
       "      <td>0.0</td>\n",
       "      <td>...</td>\n",
       "      <td>Rent</td>\n",
       "      <td>Employed</td>\n",
       "      <td>bhuqouqj</td>\n",
       "      <td>MSA, Not Principle  City</td>\n",
       "      <td>0.0</td>\n",
       "      <td>0.0</td>\n",
       "      <td>pxcmvdjn</td>\n",
       "      <td>xgwztkwe</td>\n",
       "      <td>0</td>\n",
       "      <td>1</td>\n",
       "    </tr>\n",
       "    <tr>\n",
       "      <th>2</th>\n",
       "      <td>1.0</td>\n",
       "      <td>1.0</td>\n",
       "      <td>0.0</td>\n",
       "      <td>1.0</td>\n",
       "      <td>0.0</td>\n",
       "      <td>0.0</td>\n",
       "      <td>0.0</td>\n",
       "      <td>0.0</td>\n",
       "      <td>0.0</td>\n",
       "      <td>NaN</td>\n",
       "      <td>...</td>\n",
       "      <td>Own</td>\n",
       "      <td>Employed</td>\n",
       "      <td>qufhixun</td>\n",
       "      <td>MSA, Not Principle  City</td>\n",
       "      <td>2.0</td>\n",
       "      <td>0.0</td>\n",
       "      <td>rucpziij</td>\n",
       "      <td>xtkaffoo</td>\n",
       "      <td>0</td>\n",
       "      <td>0</td>\n",
       "    </tr>\n",
       "    <tr>\n",
       "      <th>3</th>\n",
       "      <td>1.0</td>\n",
       "      <td>1.0</td>\n",
       "      <td>0.0</td>\n",
       "      <td>1.0</td>\n",
       "      <td>0.0</td>\n",
       "      <td>1.0</td>\n",
       "      <td>1.0</td>\n",
       "      <td>0.0</td>\n",
       "      <td>0.0</td>\n",
       "      <td>0.0</td>\n",
       "      <td>...</td>\n",
       "      <td>Rent</td>\n",
       "      <td>Not in Labor Force</td>\n",
       "      <td>lrircsnp</td>\n",
       "      <td>MSA, Principle City</td>\n",
       "      <td>0.0</td>\n",
       "      <td>0.0</td>\n",
       "      <td>NaN</td>\n",
       "      <td>NaN</td>\n",
       "      <td>0</td>\n",
       "      <td>1</td>\n",
       "    </tr>\n",
       "    <tr>\n",
       "      <th>4</th>\n",
       "      <td>2.0</td>\n",
       "      <td>1.0</td>\n",
       "      <td>0.0</td>\n",
       "      <td>1.0</td>\n",
       "      <td>0.0</td>\n",
       "      <td>1.0</td>\n",
       "      <td>1.0</td>\n",
       "      <td>0.0</td>\n",
       "      <td>1.0</td>\n",
       "      <td>0.0</td>\n",
       "      <td>...</td>\n",
       "      <td>Own</td>\n",
       "      <td>Employed</td>\n",
       "      <td>qufhixun</td>\n",
       "      <td>MSA, Not Principle  City</td>\n",
       "      <td>1.0</td>\n",
       "      <td>0.0</td>\n",
       "      <td>wxleyezf</td>\n",
       "      <td>emcorrxb</td>\n",
       "      <td>0</td>\n",
       "      <td>0</td>\n",
       "    </tr>\n",
       "  </tbody>\n",
       "</table>\n",
       "<p>5 rows × 37 columns</p>\n",
       "</div>"
      ],
      "text/plain": [
       "               h1n1_concern  h1n1_knowledge  behavioral_antiviral_meds  \\\n",
       "respondent_id                                                            \n",
       "0                       1.0             0.0                        0.0   \n",
       "1                       3.0             2.0                        0.0   \n",
       "2                       1.0             1.0                        0.0   \n",
       "3                       1.0             1.0                        0.0   \n",
       "4                       2.0             1.0                        0.0   \n",
       "\n",
       "               behavioral_avoidance  behavioral_face_mask  \\\n",
       "respondent_id                                               \n",
       "0                               0.0                   0.0   \n",
       "1                               1.0                   0.0   \n",
       "2                               1.0                   0.0   \n",
       "3                               1.0                   0.0   \n",
       "4                               1.0                   0.0   \n",
       "\n",
       "               behavioral_wash_hands  behavioral_large_gatherings  \\\n",
       "respondent_id                                                       \n",
       "0                                0.0                          0.0   \n",
       "1                                1.0                          0.0   \n",
       "2                                0.0                          0.0   \n",
       "3                                1.0                          1.0   \n",
       "4                                1.0                          1.0   \n",
       "\n",
       "               behavioral_outside_home  behavioral_touch_face  \\\n",
       "respondent_id                                                   \n",
       "0                                  1.0                    1.0   \n",
       "1                                  1.0                    1.0   \n",
       "2                                  0.0                    0.0   \n",
       "3                                  0.0                    0.0   \n",
       "4                                  0.0                    1.0   \n",
       "\n",
       "               doctor_recc_h1n1  ...  rent_or_own   employment_status  \\\n",
       "respondent_id                    ...                                    \n",
       "0                           0.0  ...          Own  Not in Labor Force   \n",
       "1                           0.0  ...         Rent            Employed   \n",
       "2                           NaN  ...          Own            Employed   \n",
       "3                           0.0  ...         Rent  Not in Labor Force   \n",
       "4                           0.0  ...          Own            Employed   \n",
       "\n",
       "               hhs_geo_region                census_msa  household_adults  \\\n",
       "respondent_id                                                               \n",
       "0                    oxchjgsf                   Non-MSA               0.0   \n",
       "1                    bhuqouqj  MSA, Not Principle  City               0.0   \n",
       "2                    qufhixun  MSA, Not Principle  City               2.0   \n",
       "3                    lrircsnp       MSA, Principle City               0.0   \n",
       "4                    qufhixun  MSA, Not Principle  City               1.0   \n",
       "\n",
       "               household_children  employment_industry  employment_occupation  \\\n",
       "respondent_id                                                                   \n",
       "0                             0.0                  NaN                    NaN   \n",
       "1                             0.0             pxcmvdjn               xgwztkwe   \n",
       "2                             0.0             rucpziij               xtkaffoo   \n",
       "3                             0.0                  NaN                    NaN   \n",
       "4                             0.0             wxleyezf               emcorrxb   \n",
       "\n",
       "               h1n1_vaccine  seasonal_vaccine  \n",
       "respondent_id                                  \n",
       "0                         0                 0  \n",
       "1                         0                 1  \n",
       "2                         0                 0  \n",
       "3                         0                 1  \n",
       "4                         0                 0  \n",
       "\n",
       "[5 rows x 37 columns]"
      ]
     },
     "execution_count": 73,
     "metadata": {},
     "output_type": "execute_result"
    }
   ],
   "source": [
    "merged_df = features_df.join(labels_df)\n",
    "print(\"merged_df.shape\",merged_df.shape)\n",
    "merged_df.head()"
   ]
  },
  {
   "cell_type": "code",
   "execution_count": 74,
   "id": "e62a7d39",
   "metadata": {},
   "outputs": [],
   "source": [
    "from ydata_profiling import ProfileReport\n"
   ]
  },
  {
   "cell_type": "code",
   "execution_count": 75,
   "id": "a189afad",
   "metadata": {},
   "outputs": [
    {
     "data": {
      "application/vnd.jupyter.widget-view+json": {
       "model_id": "99186fbeceea43039117547e00cbe347",
       "version_major": 2,
       "version_minor": 0
      },
      "text/plain": [
       "Summarize dataset:   0%|          | 0/5 [00:00<?, ?it/s]"
      ]
     },
     "metadata": {},
     "output_type": "display_data"
    },
    {
     "name": "stderr",
     "output_type": "stream",
     "text": [
      "100%|██████████| 37/37 [00:03<00:00, 10.53it/s]\n"
     ]
    },
    {
     "data": {
      "application/vnd.jupyter.widget-view+json": {
       "model_id": "eb2273b79b9b4e39b6a57001e9fdced0",
       "version_major": 2,
       "version_minor": 0
      },
      "text/plain": [
       "Generate report structure:   0%|          | 0/1 [00:00<?, ?it/s]"
      ]
     },
     "metadata": {},
     "output_type": "display_data"
    },
    {
     "data": {
      "application/vnd.jupyter.widget-view+json": {
       "model_id": "cf0e2f6e631f4d9f80e400dc42ecea1f",
       "version_major": 2,
       "version_minor": 0
      },
      "text/plain": [
       "Render HTML:   0%|          | 0/1 [00:00<?, ?it/s]"
      ]
     },
     "metadata": {},
     "output_type": "display_data"
    },
    {
     "data": {
      "application/vnd.jupyter.widget-view+json": {
       "model_id": "22f965d095fa4921bb18c721075aee6d",
       "version_major": 2,
       "version_minor": 0
      },
      "text/plain": [
       "Export report to file:   0%|          | 0/1 [00:00<?, ?it/s]"
      ]
     },
     "metadata": {},
     "output_type": "display_data"
    }
   ],
   "source": [
    "profile = ProfileReport(merged_df, title=\"Flu Shot Learning Dataset Profiling Report\", explorative=True)\n",
    "profile.to_file(\"../data/flu_shot_learning_profile_report.html\")"
   ]
  },
  {
   "cell_type": "markdown",
   "id": "708efd7d",
   "metadata": {},
   "source": [
    "Key findings in report:\n",
    "\n",
    "behavioral_large_gatherings is highly overall correlated with behavioral_outside_home\tHigh correlation\n",
    "\n",
    "behavioral_outside_home is highly overall correlated with behavioral_large_gatherings\tHigh correlation\n",
    "\n",
    "doctor_recc_h1n1 is highly overall correlated with doctor_recc_seasonal\tHigh correlation\n",
    "\n",
    "doctor_recc_seasonal is highly overall correlated with doctor_recc_h1n1\tHigh correlation\n",
    "\n",
    "employment_industry is highly overall correlated with employment_status and health worker High correlation\n",
    "\n",
    "employment_occupation is highly overall correlated with employment_status and health worker\tHigh correlation\n",
    "\n",
    "employment_status is highly overall correlated with employment_industry and employment occupation\tHigh correlation\n",
    "\n",
    "health_worker is highly overall correlated with employment_industry and employment occupation\tHigh correlation\n",
    "\n",
    "household_adults is highly overall correlated with marital_status\tHigh correlation\n",
    "\n",
    "marital_status is highly overall correlated with household_adults\tHigh correlation\n",
    "\n",
    "behavioral_antiviral_meds is highly imbalanced (71.9%)\tBinary Categorical Imbalance\n",
    "\n",
    "behavioral_face_mask is highly imbalanced (63.8%)\tBinary Categorical Imbalance\n",
    "\n",
    "child_under_6_months is highly imbalanced (58.9%)\tBinary Categorical Imbalance"
   ]
  },
  {
   "cell_type": "code",
   "execution_count": 76,
   "id": "9b2f27a0",
   "metadata": {},
   "outputs": [
    {
     "data": {
      "text/plain": [
       "<matplotlib.legend.Legend at 0x2892d7789e0>"
      ]
     },
     "execution_count": 76,
     "metadata": {},
     "output_type": "execute_result"
    },
    {
     "data": {
      "image/png": "[encoded data removed]",
      "text/plain": [
       "<Figure size 640x480 with 1 Axes>"
      ]
     },
     "metadata": {},
     "output_type": "display_data"
    }
   ],
   "source": [
    "counts = (merged_df[['h1n1_concern', 'h1n1_vaccine']]\n",
    "              .groupby(['h1n1_concern', 'h1n1_vaccine'])\n",
    "              .size()\n",
    "              .unstack('h1n1_vaccine')\n",
    "         )\n",
    "\n",
    "#sums the values across each row of counts and stores the result in series h1n1_concern_counts\n",
    "h1n1_concern_counts = counts.sum(axis='columns')\n",
    "\n",
    "#does row-wise division of counts by h1n1_concern_counts\n",
    "props = counts.div(h1n1_concern_counts, axis='index')\n",
    "\n",
    "ax = props.plot.barh(stacked=True)\n",
    "ax.invert_yaxis()\n",
    "ax.legend(\n",
    "    loc='center left', \n",
    "    bbox_to_anchor=(1.05, 0.5),\n",
    "    title='h1n1_vaccine'\n",
    ")"
   ]
  },
  {
   "cell_type": "markdown",
   "id": "883b3e93",
   "metadata": {},
   "source": [
    "Note: A previous version of this graph used a simple bar graph comparing counts but what was noticed was that due to the the imbalanced class a higher rate of concern just looked like an increase in the number of people not getting a vaccine. By getting the rate we look at the proportion of people that got the vaccine given an increase in concern and this gives us a better view at what is happening.\n",
    "\n",
    "We can clearly see that even though most people don't get the H1N1 vaccine, they are more likely to if they have a higher level of concern"
   ]
  },
  {
   "cell_type": "code",
   "execution_count": 77,
   "id": "c7e7764d",
   "metadata": {},
   "outputs": [],
   "source": [
    "def vaccination_rate_plot(col, target, data, ax=None):\n",
    "    \"\"\"Stacked bar chart of vaccination rate for `target` against \n",
    "    `col`. \n",
    "    \n",
    "    Args:\n",
    "        col (string): column name of feature variable\n",
    "        target (string): column name of target variable\n",
    "        data (pandas DataFrame): dataframe that contains columns \n",
    "            `col` and `target`\n",
    "        ax (matplotlib axes object, optional): matplotlib axes \n",
    "            object to attach plot to\n",
    "    \"\"\"\n",
    "    counts = (merged_df[[target, col]]\n",
    "                  .groupby([target, col])\n",
    "                  .size()\n",
    "                  .unstack(target)\n",
    "             )\n",
    "    group_counts = counts.sum(axis='columns')\n",
    "    props = counts.div(group_counts, axis='index')\n",
    "\n",
    "    props.plot(kind=\"barh\", stacked=True, ax=ax)\n",
    "    ax.invert_yaxis()\n",
    "    ax.legend().remove()"
   ]
  },
  {
   "cell_type": "code",
   "execution_count": 78,
   "id": "d0690398",
   "metadata": {},
   "outputs": [
    {
     "data": {
      "image/png": "[encoded data removed]",
      "text/plain": [
       "<Figure size 900x2750 with 22 Axes>"
      ]
     },
     "metadata": {},
     "output_type": "display_data"
    }
   ],
   "source": [
    "cols_to_plot = [\n",
    "    'h1n1_concern',\n",
    "    'h1n1_knowledge',\n",
    "    'opinion_h1n1_vacc_effective',\n",
    "    'opinion_h1n1_risk',\n",
    "    'opinion_h1n1_sick_from_vacc',\n",
    "    'opinion_seas_vacc_effective',\n",
    "    'opinion_seas_risk',\n",
    "    'opinion_seas_sick_from_vacc',\n",
    "    'sex',\n",
    "    'age_group',\n",
    "    'race',\n",
    "]\n",
    "\n",
    "fig, ax = plt.subplots(\n",
    "    len(cols_to_plot), 2, figsize=(9,len(cols_to_plot)*2.5)\n",
    ")\n",
    "for idx, col in enumerate(cols_to_plot):\n",
    "    vaccination_rate_plot(\n",
    "        col, 'h1n1_vaccine', merged_df, ax=ax[idx, 0]\n",
    "    )\n",
    "    vaccination_rate_plot(\n",
    "        col, 'seasonal_vaccine', merged_df, ax=ax[idx, 1]\n",
    "    )\n",
    "    \n",
    "ax[0, 0].legend(\n",
    "    loc='lower center', bbox_to_anchor=(0.5, 1.05), title='h1n1_vaccine'\n",
    ")\n",
    "ax[0, 1].legend(\n",
    "    loc='lower center', bbox_to_anchor=(0.5, 1.05), title='seasonal_vaccine'\n",
    ")\n",
    "fig.tight_layout()"
   ]
  },
  {
   "cell_type": "markdown",
   "id": "9c62b03a",
   "metadata": {},
   "source": [
    "Note: We observe a strong correlation between both vaccines and participants' knowledge of H1N1, their opinion on vaccine effectiveness, and their perceived risk of contracting the flu if not vaccinated. Additionally, there appears to be a stronger correlation between receiving the seasonal flu vaccine and demographic features, compared to the correlation observed with the H1N1 vaccine.\n",
    "\n",
    "From further analysi, there exists a string correlation between the number of adults and children in a household for seasonal vaccines but not for the h1n1 vaccine as well as there is no substantial evidence of correlation between either vaccines and education income poverty, employment status, geo location and census msa."
   ]
  },
  {
   "cell_type": "markdown",
   "id": "291bf952",
   "metadata": {},
   "source": [
    "## Model Build"
   ]
  },
  {
   "cell_type": "code",
   "execution_count": 79,
   "id": "ae361cfc",
   "metadata": {},
   "outputs": [],
   "source": [
    "from sklearn.pipeline import Pipeline\n",
    "from sklearn.preprocessing import (\n",
    "    StandardScaler, OneHotEncoder, OrdinalEncoder,FunctionTransformer\n",
    ")\n",
    "from sklearn.linear_model import LogisticRegression\n",
    "from sklearn.impute import SimpleImputer\n",
    "from sklearn.model_selection import (GridSearchCV,train_test_split)\n",
    "from sklearn.metrics import roc_curve, roc_auc_score\n"
   ]
  },
  {
   "cell_type": "code",
   "execution_count": 80,
   "id": "f6dc9bd1",
   "metadata": {},
   "outputs": [],
   "source": [
    "def h1n1_encode_categorical_features(df):\n",
    "    \"\"\"\n",
    "    Encodes categorical features in the DataFrame using OneHotEncoder.\n",
    "\n",
    "    Args:\n",
    "        df (pd.DataFrame): DataFrame containing the data to be encoded.\n",
    "\n",
    "    Returns:\n",
    "        pd.DataFrame: DataFrame with encoded categorical features.\n",
    "    \"\"\"\n",
    "    # Create encoder\n",
    "    one_hot_encoder = OneHotEncoder(sparse_output=False, drop='first')\n",
    "\n",
    "    # Fit and transform specific columns\n",
    "    one_hot_columns_to_encode = ['race', 'sex','employment_industry', 'employment_occupation', 'marital_status', 'rent_or_own']\n",
    "    \n",
    "    one_hot_encoded_data = one_hot_encoder.fit_transform(df[one_hot_columns_to_encode])\n",
    "\n",
    "    # Get feature names for one-hot encoded columns\n",
    "    feature_names = one_hot_encoder.get_feature_names_out(one_hot_columns_to_encode)\n",
    "\n",
    "    # Create DataFrame with one-hot encoded columns\n",
    "    encoded_df = pd.DataFrame(\n",
    "        one_hot_encoded_data, columns=feature_names, index=df.index)\n",
    "\n",
    "    # Drop original categorical one-hot columns, concatenate encoded ones and drop NaN columns\n",
    "    df = df.drop(columns=one_hot_columns_to_encode)\n",
    "    df = pd.concat([df, encoded_df], axis=1)\n",
    "    suffix_to_drop = '_nan'\n",
    "    columns_to_drop = [\n",
    "        col for col in df.columns if col.endswith(suffix_to_drop)]\n",
    "    df = df.drop(columns=columns_to_drop)\n",
    "    \n",
    "    \n",
    "    print(\"merged_df.shape\", df.shape)\n",
    "    df.head()\n",
    "    return df"
   ]
  },
  {
   "cell_type": "code",
   "execution_count": 81,
   "id": "9fdd852f",
   "metadata": {},
   "outputs": [],
   "source": [
    "def seasonal_encode_categorical_features(df):\n",
    "    \"\"\"\n",
    "    Encodes categorical features in the DataFrame using OneHotEncoder and OrdinalEncoder.\n",
    "\n",
    "    Args:\n",
    "        df (pd.DataFrame): DataFrame containing the data to be encoded.\n",
    "\n",
    "    Returns:\n",
    "        pd.DataFrame: DataFrame with encoded categorical features.\n",
    "    \"\"\"\n",
    "    # Create encoder\n",
    "    one_hot_encoder = OneHotEncoder(sparse_output=False, drop='first')\n",
    "    ordinal_encoder = OrdinalEncoder()\n",
    "\n",
    "    # Fit and transform specific columns\n",
    "    one_hot_columns_to_encode = ['race', 'sex','employment_industry', 'employment_occupation', 'marital_status', 'rent_or_own']\n",
    "    ordinal_columns_to_encode = ['age_group']\n",
    "    \n",
    "    one_hot_encoded_data = one_hot_encoder.fit_transform(df[one_hot_columns_to_encode])\n",
    "    df[ordinal_columns_to_encode] = ordinal_encoder.fit_transform(\n",
    "        df[ordinal_columns_to_encode])\n",
    "\n",
    "    # Get feature names for one-hot encoded columns\n",
    "    feature_names = one_hot_encoder.get_feature_names_out(one_hot_columns_to_encode)\n",
    "\n",
    "    # Create DataFrame with one-hot encoded columns\n",
    "    encoded_df = pd.DataFrame(\n",
    "        one_hot_encoded_data, columns=feature_names, index=df.index)\n",
    "\n",
    "    # Drop original categorical one-hot columns, concatenate encoded ones and drop NaN columns\n",
    "    df = df.drop(columns=one_hot_columns_to_encode)\n",
    "    df = pd.concat([df, encoded_df], axis=1)\n",
    "    suffix_to_drop = '_nan'\n",
    "    columns_to_drop = [\n",
    "        col for col in df.columns if col.endswith(suffix_to_drop)]\n",
    "    df = df.drop(columns=columns_to_drop)\n",
    "    \n",
    "    \n",
    "    print(\"merged_df.shape\", df.shape)\n",
    "    df.head()\n",
    "    return df"
   ]
  },
  {
   "cell_type": "code",
   "execution_count": 82,
   "id": "a6a59072",
   "metadata": {},
   "outputs": [],
   "source": [
    "\n",
    "fullpipeline_h1n1 = Pipeline([\n",
    "    ('encoder',FunctionTransformer(h1n1_encode_categorical_features, validate=False)),\n",
    "    ('simple_imputer', SimpleImputer(strategy='median')),\n",
    "    ('standard_scaler', StandardScaler()),\n",
    "    ('model', LogisticRegression(penalty='l2', C=1))\n",
    "])\n",
    "\n",
    "param_grid_1 = {\n",
    "    'model__C': [0.01, 0.1, 1, 10],\n",
    "    'model__solver': ['liblinear', 'lbfgs']\n",
    "}\n",
    "\n",
    "h1n1_grid = GridSearchCV(fullpipeline_h1n1, param_grid=param_grid_1, cv=5, scoring='roc_auc')\n",
    "\n",
    "fullpipeline_seasonal = Pipeline([\n",
    "    ('encoder',FunctionTransformer(seasonal_encode_categorical_features, validate=False)),\n",
    "    ('simple_imputer', SimpleImputer(strategy='median')),\n",
    "    ('standard_scaler', StandardScaler()),\n",
    "    ('model', LogisticRegression(penalty='l2', C=1))\n",
    "])\n",
    "\n",
    "param_grid_2 = {\n",
    "    'model__C': [0.01, 0.1, 1, 10],\n",
    "    'model__solver': ['liblinear', 'lbfgs']\n",
    "}\n",
    "\n",
    "seasonal_grid = GridSearchCV(fullpipeline_seasonal, param_grid=param_grid_2, cv=5, scoring='roc_auc')"
   ]
  },
  {
   "cell_type": "markdown",
   "id": "0d4d449b",
   "metadata": {},
   "source": [
    "Note: L2 was used to deal with multicollinearity and Binary Categorical Imbalances noted by the EDA report as well as reduce overfitting"
   ]
  },
  {
   "cell_type": "code",
   "execution_count": 83,
   "id": "a58beebe",
   "metadata": {},
   "outputs": [
    {
     "name": "stdout",
     "output_type": "stream",
     "text": [
      "Shape of unified X_train: (17893, 35)\n",
      "Shape of unified X_eval: (8814, 35)\n"
     ]
    },
    {
     "ename": "KeyError",
     "evalue": "\"['race_Hispanic', 'race_Other or Multiple', 'race_White'] not found in axis\"",
     "output_type": "error",
     "traceback": [
      "\u001b[1;31m---------------------------------------------------------------------------\u001b[0m",
      "\u001b[1;31mKeyError\u001b[0m                                  Traceback (most recent call last)",
      "Cell \u001b[1;32mIn[83], line 17\u001b[0m\n\u001b[0;32m     14\u001b[0m \u001b[38;5;28mprint\u001b[39m(\u001b[38;5;124m\"\u001b[39m\u001b[38;5;124mShape of unified X_eval:\u001b[39m\u001b[38;5;124m\"\u001b[39m, X_eval\u001b[38;5;241m.\u001b[39mshape)\n\u001b[0;32m     16\u001b[0m h1n1_cols_to_drop \u001b[38;5;241m=\u001b[39m [\u001b[38;5;124m'\u001b[39m\u001b[38;5;124mopinion_h1n1_sick_from_vacc\u001b[39m\u001b[38;5;124m'\u001b[39m, \u001b[38;5;124m'\u001b[39m\u001b[38;5;124mopinion_seas_sick_from_vacc\u001b[39m\u001b[38;5;124m'\u001b[39m, \u001b[38;5;124m'\u001b[39m\u001b[38;5;124mage_group\u001b[39m\u001b[38;5;124m'\u001b[39m,\u001b[38;5;124m'\u001b[39m\u001b[38;5;124mrace_Hispanic\u001b[39m\u001b[38;5;124m'\u001b[39m,\u001b[38;5;124m'\u001b[39m\u001b[38;5;124mrace_Other or Multiple\u001b[39m\u001b[38;5;124m'\u001b[39m,\u001b[38;5;124m'\u001b[39m\u001b[38;5;124mrace_White\u001b[39m\u001b[38;5;124m'\u001b[39m,\u001b[38;5;124m'\u001b[39m\u001b[38;5;124meducation\u001b[39m\u001b[38;5;124m'\u001b[39m, \u001b[38;5;124m'\u001b[39m\u001b[38;5;124mincome_poverty\u001b[39m\u001b[38;5;124m'\u001b[39m, \u001b[38;5;124m'\u001b[39m\u001b[38;5;124memployment_status\u001b[39m\u001b[38;5;124m'\u001b[39m, \u001b[38;5;124m'\u001b[39m\u001b[38;5;124mhhs_geo_region\u001b[39m\u001b[38;5;124m'\u001b[39m,\u001b[38;5;124m'\u001b[39m\u001b[38;5;124mcensus_msa\u001b[39m\u001b[38;5;124m'\u001b[39m,\u001b[38;5;124m'\u001b[39m\u001b[38;5;124mhousehold_adults\u001b[39m\u001b[38;5;124m'\u001b[39m, \u001b[38;5;124m'\u001b[39m\u001b[38;5;124mhousehold_children\u001b[39m\u001b[38;5;124m'\u001b[39m]\n\u001b[1;32m---> 17\u001b[0m h1n1_X_train \u001b[38;5;241m=\u001b[39m \u001b[43mX_train\u001b[49m\u001b[38;5;241;43m.\u001b[39;49m\u001b[43mdrop\u001b[49m\u001b[43m(\u001b[49m\u001b[43mcolumns\u001b[49m\u001b[38;5;241;43m=\u001b[39;49m\u001b[43mh1n1_cols_to_drop\u001b[49m\u001b[43m)\u001b[49m\n\u001b[0;32m     18\u001b[0m h1n1_X_eval \u001b[38;5;241m=\u001b[39m X_eval\u001b[38;5;241m.\u001b[39mdrop(columns\u001b[38;5;241m=\u001b[39mh1n1_cols_to_drop)\n\u001b[0;32m     19\u001b[0m h1n1_y_train \u001b[38;5;241m=\u001b[39m y_train[[\u001b[38;5;124m'\u001b[39m\u001b[38;5;124mh1n1_vaccine\u001b[39m\u001b[38;5;124m'\u001b[39m]]\n",
      "File \u001b[1;32mc:\\Users\\NEW ERA\\anaconda3\\Lib\\site-packages\\pandas\\core\\frame.py:5581\u001b[0m, in \u001b[0;36mDataFrame.drop\u001b[1;34m(self, labels, axis, index, columns, level, inplace, errors)\u001b[0m\n\u001b[0;32m   5433\u001b[0m \u001b[38;5;28;01mdef\u001b[39;00m \u001b[38;5;21mdrop\u001b[39m(\n\u001b[0;32m   5434\u001b[0m     \u001b[38;5;28mself\u001b[39m,\n\u001b[0;32m   5435\u001b[0m     labels: IndexLabel \u001b[38;5;241m|\u001b[39m \u001b[38;5;28;01mNone\u001b[39;00m \u001b[38;5;241m=\u001b[39m \u001b[38;5;28;01mNone\u001b[39;00m,\n\u001b[1;32m   (...)\u001b[0m\n\u001b[0;32m   5442\u001b[0m     errors: IgnoreRaise \u001b[38;5;241m=\u001b[39m \u001b[38;5;124m\"\u001b[39m\u001b[38;5;124mraise\u001b[39m\u001b[38;5;124m\"\u001b[39m,\n\u001b[0;32m   5443\u001b[0m ) \u001b[38;5;241m-\u001b[39m\u001b[38;5;241m>\u001b[39m DataFrame \u001b[38;5;241m|\u001b[39m \u001b[38;5;28;01mNone\u001b[39;00m:\n\u001b[0;32m   5444\u001b[0m \u001b[38;5;250m    \u001b[39m\u001b[38;5;124;03m\"\"\"\u001b[39;00m\n\u001b[0;32m   5445\u001b[0m \u001b[38;5;124;03m    Drop specified labels from rows or columns.\u001b[39;00m\n\u001b[0;32m   5446\u001b[0m \n\u001b[1;32m   (...)\u001b[0m\n\u001b[0;32m   5579\u001b[0m \u001b[38;5;124;03m            weight  1.0     0.8\u001b[39;00m\n\u001b[0;32m   5580\u001b[0m \u001b[38;5;124;03m    \"\"\"\u001b[39;00m\n\u001b[1;32m-> 5581\u001b[0m     \u001b[38;5;28;01mreturn\u001b[39;00m \u001b[38;5;28;43msuper\u001b[39;49m\u001b[43m(\u001b[49m\u001b[43m)\u001b[49m\u001b[38;5;241;43m.\u001b[39;49m\u001b[43mdrop\u001b[49m\u001b[43m(\u001b[49m\n\u001b[0;32m   5582\u001b[0m \u001b[43m        \u001b[49m\u001b[43mlabels\u001b[49m\u001b[38;5;241;43m=\u001b[39;49m\u001b[43mlabels\u001b[49m\u001b[43m,\u001b[49m\n\u001b[0;32m   5583\u001b[0m \u001b[43m        \u001b[49m\u001b[43maxis\u001b[49m\u001b[38;5;241;43m=\u001b[39;49m\u001b[43maxis\u001b[49m\u001b[43m,\u001b[49m\n\u001b[0;32m   5584\u001b[0m \u001b[43m        \u001b[49m\u001b[43mindex\u001b[49m\u001b[38;5;241;43m=\u001b[39;49m\u001b[43mindex\u001b[49m\u001b[43m,\u001b[49m\n\u001b[0;32m   5585\u001b[0m \u001b[43m        \u001b[49m\u001b[43mcolumns\u001b[49m\u001b[38;5;241;43m=\u001b[39;49m\u001b[43mcolumns\u001b[49m\u001b[43m,\u001b[49m\n\u001b[0;32m   5586\u001b[0m \u001b[43m        \u001b[49m\u001b[43mlevel\u001b[49m\u001b[38;5;241;43m=\u001b[39;49m\u001b[43mlevel\u001b[49m\u001b[43m,\u001b[49m\n\u001b[0;32m   5587\u001b[0m \u001b[43m        \u001b[49m\u001b[43minplace\u001b[49m\u001b[38;5;241;43m=\u001b[39;49m\u001b[43minplace\u001b[49m\u001b[43m,\u001b[49m\n\u001b[0;32m   5588\u001b[0m \u001b[43m        \u001b[49m\u001b[43merrors\u001b[49m\u001b[38;5;241;43m=\u001b[39;49m\u001b[43merrors\u001b[49m\u001b[43m,\u001b[49m\n\u001b[0;32m   5589\u001b[0m \u001b[43m    \u001b[49m\u001b[43m)\u001b[49m\n",
      "File \u001b[1;32mc:\\Users\\NEW ERA\\anaconda3\\Lib\\site-packages\\pandas\\core\\generic.py:4788\u001b[0m, in \u001b[0;36mNDFrame.drop\u001b[1;34m(self, labels, axis, index, columns, level, inplace, errors)\u001b[0m\n\u001b[0;32m   4786\u001b[0m \u001b[38;5;28;01mfor\u001b[39;00m axis, labels \u001b[38;5;129;01min\u001b[39;00m axes\u001b[38;5;241m.\u001b[39mitems():\n\u001b[0;32m   4787\u001b[0m     \u001b[38;5;28;01mif\u001b[39;00m labels \u001b[38;5;129;01mis\u001b[39;00m \u001b[38;5;129;01mnot\u001b[39;00m \u001b[38;5;28;01mNone\u001b[39;00m:\n\u001b[1;32m-> 4788\u001b[0m         obj \u001b[38;5;241m=\u001b[39m \u001b[43mobj\u001b[49m\u001b[38;5;241;43m.\u001b[39;49m\u001b[43m_drop_axis\u001b[49m\u001b[43m(\u001b[49m\u001b[43mlabels\u001b[49m\u001b[43m,\u001b[49m\u001b[43m \u001b[49m\u001b[43maxis\u001b[49m\u001b[43m,\u001b[49m\u001b[43m \u001b[49m\u001b[43mlevel\u001b[49m\u001b[38;5;241;43m=\u001b[39;49m\u001b[43mlevel\u001b[49m\u001b[43m,\u001b[49m\u001b[43m \u001b[49m\u001b[43merrors\u001b[49m\u001b[38;5;241;43m=\u001b[39;49m\u001b[43merrors\u001b[49m\u001b[43m)\u001b[49m\n\u001b[0;32m   4790\u001b[0m \u001b[38;5;28;01mif\u001b[39;00m inplace:\n\u001b[0;32m   4791\u001b[0m     \u001b[38;5;28mself\u001b[39m\u001b[38;5;241m.\u001b[39m_update_inplace(obj)\n",
      "File \u001b[1;32mc:\\Users\\NEW ERA\\anaconda3\\Lib\\site-packages\\pandas\\core\\generic.py:4830\u001b[0m, in \u001b[0;36mNDFrame._drop_axis\u001b[1;34m(self, labels, axis, level, errors, only_slice)\u001b[0m\n\u001b[0;32m   4828\u001b[0m         new_axis \u001b[38;5;241m=\u001b[39m axis\u001b[38;5;241m.\u001b[39mdrop(labels, level\u001b[38;5;241m=\u001b[39mlevel, errors\u001b[38;5;241m=\u001b[39merrors)\n\u001b[0;32m   4829\u001b[0m     \u001b[38;5;28;01melse\u001b[39;00m:\n\u001b[1;32m-> 4830\u001b[0m         new_axis \u001b[38;5;241m=\u001b[39m \u001b[43maxis\u001b[49m\u001b[38;5;241;43m.\u001b[39;49m\u001b[43mdrop\u001b[49m\u001b[43m(\u001b[49m\u001b[43mlabels\u001b[49m\u001b[43m,\u001b[49m\u001b[43m \u001b[49m\u001b[43merrors\u001b[49m\u001b[38;5;241;43m=\u001b[39;49m\u001b[43merrors\u001b[49m\u001b[43m)\u001b[49m\n\u001b[0;32m   4831\u001b[0m     indexer \u001b[38;5;241m=\u001b[39m axis\u001b[38;5;241m.\u001b[39mget_indexer(new_axis)\n\u001b[0;32m   4833\u001b[0m \u001b[38;5;66;03m# Case for non-unique axis\u001b[39;00m\n\u001b[0;32m   4834\u001b[0m \u001b[38;5;28;01melse\u001b[39;00m:\n",
      "File \u001b[1;32mc:\\Users\\NEW ERA\\anaconda3\\Lib\\site-packages\\pandas\\core\\indexes\\base.py:7070\u001b[0m, in \u001b[0;36mIndex.drop\u001b[1;34m(self, labels, errors)\u001b[0m\n\u001b[0;32m   7068\u001b[0m \u001b[38;5;28;01mif\u001b[39;00m mask\u001b[38;5;241m.\u001b[39many():\n\u001b[0;32m   7069\u001b[0m     \u001b[38;5;28;01mif\u001b[39;00m errors \u001b[38;5;241m!=\u001b[39m \u001b[38;5;124m\"\u001b[39m\u001b[38;5;124mignore\u001b[39m\u001b[38;5;124m\"\u001b[39m:\n\u001b[1;32m-> 7070\u001b[0m         \u001b[38;5;28;01mraise\u001b[39;00m \u001b[38;5;167;01mKeyError\u001b[39;00m(\u001b[38;5;124mf\u001b[39m\u001b[38;5;124m\"\u001b[39m\u001b[38;5;132;01m{\u001b[39;00mlabels[mask]\u001b[38;5;241m.\u001b[39mtolist()\u001b[38;5;132;01m}\u001b[39;00m\u001b[38;5;124m not found in axis\u001b[39m\u001b[38;5;124m\"\u001b[39m)\n\u001b[0;32m   7071\u001b[0m     indexer \u001b[38;5;241m=\u001b[39m indexer[\u001b[38;5;241m~\u001b[39mmask]\n\u001b[0;32m   7072\u001b[0m \u001b[38;5;28;01mreturn\u001b[39;00m \u001b[38;5;28mself\u001b[39m\u001b[38;5;241m.\u001b[39mdelete(indexer)\n",
      "\u001b[1;31mKeyError\u001b[0m: \"['race_Hispanic', 'race_Other or Multiple', 'race_White'] not found in axis\""
     ]
    }
   ],
   "source": [
    "\n",
    "RANDOM_SEED = 42\n",
    "\n",
    "X_train, X_eval, y_train, y_eval = train_test_split(\n",
    "    features_df,\n",
    "    labels_df,\n",
    "    test_size=0.33,\n",
    "    shuffle=True,\n",
    "    stratify=labels_df,  # Stratify on both target columns\n",
    "    random_state=RANDOM_SEED\n",
    ")\n",
    "\n",
    "# Now, X_train and X_eval contain the same respondents. Same for y_train and y_eval.\n",
    "print(\"Shape of unified X_train:\", X_train.shape)\n",
    "print(\"Shape of unified X_eval:\", X_eval.shape)\n",
    "\n",
    "h1n1_cols_to_drop = ['opinion_h1n1_sick_from_vacc', 'opinion_seas_sick_from_vacc', 'age_group','race_Hispanic','race_Other or Multiple','race_White','education', 'income_poverty', 'employment_status', 'hhs_geo_region','census_msa','household_adults', 'household_children']\n",
    "h1n1_X_train = X_train.drop(columns=h1n1_cols_to_drop)\n",
    "h1n1_X_eval = X_eval.drop(columns=h1n1_cols_to_drop)\n",
    "h1n1_y_train = y_train[['h1n1_vaccine']]\n",
    "h1n1_y_eval = y_eval[['h1n1_vaccine']]\n",
    "\n",
    "seasonal_cols_to_drop = ['opinion_h1n1_sick_from_vacc', 'opinion_seas_sick_from_vacc','education', 'income_poverty', 'employment_status', 'hhs_geo_region','census_msa']\n",
    "seasonal_X_train = X_train.drop(columns=seasonal_cols_to_drop)\n",
    "seasonal_X_eval = X_eval.drop(columns=seasonal_cols_to_drop)\n",
    "seasonal_y_train = y_train[['seasonal_vaccine']]\n",
    "seasonal_y_eval = y_eval[['seasonal_vaccine']]\n",
    "\n",
    "assert h1n1_X_eval.index.equals(seasonal_X_eval.index)\n",
    "print(\"\\nSanity check passed: H1N1 and Seasonal evaluation sets have the same indices.\")"
   ]
  },
  {
   "cell_type": "markdown",
   "id": "5a08c1d4",
   "metadata": {},
   "source": [
    "Note: stratify argument used to avoid lopsided splits and generalization due to 1n1_vaccine label classes moderate imbalance.\n",
    "\n",
    "Inputs with poor or no correlation were removed to reduce noise, improve mcomputational and regularization efficiency."
   ]
  },
  {
   "cell_type": "code",
   "execution_count": null,
   "id": "f839b0fd",
   "metadata": {},
   "outputs": [
    {
     "name": "stdout",
     "output_type": "stream",
     "text": [
      "merged_df.shape (17893, 67)\n"
     ]
    },
    {
     "name": "stderr",
     "output_type": "stream",
     "text": [
      "c:\\Users\\NEW ERA\\anaconda3\\Lib\\site-packages\\sklearn\\utils\\validation.py:1339: DataConversionWarning: A column-vector y was passed when a 1d array was expected. Please change the shape of y to (n_samples, ), for example using ravel().\n",
      "  y = column_or_1d(y, warn=True)\n"
     ]
    },
    {
     "name": "stdout",
     "output_type": "stream",
     "text": [
      "merged_df.shape (17893, 70)\n"
     ]
    },
    {
     "name": "stderr",
     "output_type": "stream",
     "text": [
      "c:\\Users\\NEW ERA\\anaconda3\\Lib\\site-packages\\sklearn\\utils\\validation.py:1339: DataConversionWarning: A column-vector y was passed when a 1d array was expected. Please change the shape of y to (n_samples, ), for example using ravel().\n",
      "  y = column_or_1d(y, warn=True)\n"
     ]
    },
    {
     "name": "stdout",
     "output_type": "stream",
     "text": [
      "merged_df.shape (8814, 67)\n",
      "merged_df.shape (8814, 70)\n",
      "Shape of H1N1 prediction probabilities: (8814,)\n",
      "Shape of H1N1 evaluation labels: (8814, 1)\n",
      "------------------------------\n",
      "Shape of Seasonal prediction probabilities: (8814,)\n",
      "Shape of Seasonal evaluation labels: (8814, 1)\n",
      "\n",
      "Side-by-side predictions DataFrame:\n",
      "               h1n1_predicted_proba  seasonal_predicted_proba\n",
      "respondent_id                                                \n",
      "8117                       0.117524                       NaN\n",
      "15516                      0.099888                       NaN\n",
      "10976                      0.051046                       NaN\n",
      "4330                       0.253159                       NaN\n",
      "1402                       0.051627                  0.119823\n",
      "CPU times: total: 1.09 s\n",
      "Wall time: 1.27 s\n"
     ]
    }
   ],
   "source": [
    "%%time\n",
    "\n",
    "# Train models\n",
    "fullpipeline_h1n1.fit(h1n1_X_train, h1n1_y_train)\n",
    "fullpipeline_seasonal.fit(seasonal_X_train, seasonal_y_train)\n",
    "model_bundle = {'h1n1': fullpipeline_h1n1, 'seasonal': fullpipeline_seasonal}\n",
    "\n",
    "h1n1_preds_proba = model_bundle['h1n1'].predict_proba(h1n1_X_eval)[:, 1]\n",
    "\n",
    "seasonal_preds_proba = model_bundle['seasonal'].predict_proba(seasonal_X_eval)[:, 1]\n",
    "\n",
    "# Check the shape of the prediction arrays\n",
    "print(f\"Shape of H1N1 prediction probabilities: {h1n1_preds_proba.shape}\")\n",
    "print(f\"Shape of H1N1 evaluation labels: {h1n1_y_eval.shape}\")\n",
    "print(\"-\" * 30)\n",
    "print(f\"Shape of Seasonal prediction probabilities: {seasonal_preds_proba.shape}\")\n",
    "print(f\"Shape of Seasonal evaluation labels: {seasonal_y_eval.shape}\")\n",
    "\n",
    "h1n1_results = pd.Series(h1n1_preds_proba, index=h1n1_X_eval.index, name='h1n1_predicted_proba')\n",
    "seasonal_results = pd.Series(seasonal_preds_proba, index=seasonal_X_eval.index, name='seasonal_predicted_proba')\n",
    "\n",
    "# Combine them into a single DataFrame. Pandas will align on the index.\n",
    "# Individuals not in one of the eval sets will have a NaN.\n",
    "predictions_df = pd.concat([h1n1_results, seasonal_results], axis=1)\n",
    "\n",
    "print(\"\\nSide-by-side predictions DataFrame:\")\n",
    "print(predictions_df.head())\n"
   ]
  },
  {
   "cell_type": "code",
   "execution_count": null,
   "id": "1b5d411f",
   "metadata": {},
   "outputs": [],
   "source": []
  },
  {
   "cell_type": "markdown",
   "id": "9a812dd2",
   "metadata": {},
   "source": []
  }
 ],
 "metadata": {
  "kernelspec": {
   "display_name": "base",
   "language": "python",
   "name": "python3"
  },
  "language_info": {
   "codemirror_mode": {
    "name": "ipython",
    "version": 3
   },
   "file_extension": ".py",
   "mimetype": "text/x-python",
   "name": "python",
   "nbconvert_exporter": "python",
   "pygments_lexer": "ipython3",
   "version": "3.12.7"
  }
 },
 "nbformat": 4,
 "nbformat_minor": 5
}
